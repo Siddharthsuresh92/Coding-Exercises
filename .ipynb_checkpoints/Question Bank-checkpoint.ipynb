{
 "cells": [
  {
   "cell_type": "markdown",
   "metadata": {},
   "source": [
    "# Coding exercises\n",
    "\n",
    "Simple Data Science practice questions to be hands on with coding in python"
   ]
  },
  {
   "cell_type": "markdown",
   "metadata": {},
   "source": [
    "### Q1. Suppose you're working for Reddit as an analyst. Reddit is trying to optimize its server allocation per subreddit, and you've been tasked with figuring out how much comment activity happens once a post is published.\n",
    "\n",
    "Use your intuition to select a timeframe to query the data, as well as how you would want to present this information to the partnering team. The solution will be a SQL query with assumptions that you would need to state if this were asked in an interview. You have the following tables:\n",
    "\n",
    "#### Table: posts\n",
    "\n",
    "| Column Name | Data Type | Description |\n",
    "| :-: | :-: | :-: |\n",
    "| id | integer | id of the post |\n",
    "| publisher_id | integer | id the user posting |\n",
    "| score | integer | score of the post |\n",
    "| time | integer | post publish time in unix time |\n",
    "| title | string | title of the post |\n",
    "| deleted | boolean | is the post deleted? |\n",
    "| dead | boolean | is the post active? |\n",
    "| subreddit_id | integer | id of the subreddit |\n",
    "\n",
    "#### Table: comments\n",
    "\n",
    "| Column Name | Data Type | Description |\n",
    "| :-: | :-: | :-: |\n",
    "| id | integer | id of the comment |\n",
    "| author_id | integer | id of the commenter |\n",
    "| post_id | integer | id of the post the comment is nested under |\n",
    "| parent_comment | integer | id of parent comment that comment is nested under |\n",
    "| deleted | integer | is comment deleted? |\n",
    "\n",
    "Given the above, write a SQL query to highlight comment activity by subreddit. This problem is intended to test how you can think through vague/open-ended questions. "
   ]
  },
  {
   "cell_type": "code",
   "execution_count": null,
   "metadata": {},
   "outputs": [],
   "source": []
  },
  {
   "cell_type": "markdown",
   "metadata": {},
   "source": [
    "### Q2. Given an array and an integer A, find the maximum for each contiguous subarray of size A.\n",
    "\n",
    "```python\n",
    "Input: array = [1, 2, 3, 1, 4, 5, 2, 3, 6], A = 3\n",
    "Output: 3 3 4 5 5 5 6\n",
    "```\n",
    "\n",
    "Below is a more detailed walkthrough of what you should be trying to code, using the example above:\n",
    "\n",
    "- subarray 1 = [1, 2, 3, 1, 4, 5, 2, 3, 6]\n",
    "- maximum of subarray 1 = 3\n",
    "- subarray 2 = [1, 2, 3, 1, 4, 5, 2, 3, 6]\n",
    "- maximum of subarray 2 = 3\n",
    "- subarray 3 = [1, 2, 3, 1, 4, 5, 2, 3, 6]\n",
    "- maximum of subarray 3 = 4\n",
    "- Etc."
   ]
  },
  {
   "cell_type": "code",
   "execution_count": null,
   "metadata": {},
   "outputs": [],
   "source": []
  },
  {
   "cell_type": "markdown",
   "metadata": {},
   "source": [
    "### Q3. Given the data table below, determine if there is a relationship between fitness level and smoking habits:\n",
    "\n",
    "| | Low fitness level | Medium-low fitness level | Medium-high fitness level | High fitness level |\n",
    "| :-- | :-: | :-: | :-: | :-: |\n",
    "| Never smoked | 113 | 113 | 110 | 159 |\n",
    "| Former smokers | 119 | 135 | 172 | 190 |\n",
    "| 1 to 9 cigarettes daily | 77 | 91 | 86 | 65 |\n",
    "| >=10 cigarettes daily | 181 | 152 | 124 | 73 |\n",
    "\n",
    "You don't have to fully solve for the number here (that would be pretty time-intensive for an interview setting), but lay out the steps you would take to solve such a problem. "
   ]
  },
  {
   "cell_type": "code",
   "execution_count": null,
   "metadata": {},
   "outputs": [],
   "source": []
  }
 ],
 "metadata": {
  "kernelspec": {
   "display_name": "Python 3",
   "language": "python",
   "name": "python3"
  },
  "language_info": {
   "codemirror_mode": {
    "name": "ipython",
    "version": 3
   },
   "file_extension": ".py",
   "mimetype": "text/x-python",
   "name": "python",
   "nbconvert_exporter": "python",
   "pygments_lexer": "ipython3",
   "version": "3.7.6"
  }
 },
 "nbformat": 4,
 "nbformat_minor": 4
}
